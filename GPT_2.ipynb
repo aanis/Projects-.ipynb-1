{
  "nbformat": 4,
  "nbformat_minor": 0,
  "metadata": {
    "colab": {
      "name": "GPT-2.ipynb",
      "provenance": []
    },
    "kernelspec": {
      "name": "python3",
      "display_name": "Python 3"
    },
    "accelerator": "GPU"
  },
  "cells": [
    {
      "cell_type": "code",
      "metadata": {
        "id": "i130MqXoOC2c",
        "colab_type": "code",
        "colab": {}
      },
      "source": [
        "#Generate text using GPT-2 Large Model  "
      ],
      "execution_count": 0,
      "outputs": []
    },
    {
      "cell_type": "code",
      "metadata": {
        "id": "TDAodeMsOjqH",
        "colab_type": "code",
        "colab": {
          "base_uri": "https://localhost:8080/",
          "height": 170
        },
        "outputId": "a4be0ae5-c7bb-43c4-9f44-b56b42e96d27"
      },
      "source": [
        "#Before running go to  runtime > chanage runtime type >  Select GPU \n",
        "\n",
        "#import dependencies \n",
        "\n",
        "%tensorflow_version 1.x\n",
        "!pip install -q gpt-2-simple\n",
        "import gpt_2_simple as gpt2\n",
        "from datetime import datetime\n",
        "from google.colab import files"
      ],
      "execution_count": 1,
      "outputs": [
        {
          "output_type": "stream",
          "text": [
            "  Building wheel for gpt-2-simple (setup.py) ... \u001b[?25l\u001b[?25hdone\n",
            "WARNING:tensorflow:\n",
            "The TensorFlow contrib module will not be included in TensorFlow 2.0.\n",
            "For more information, please see:\n",
            "  * https://github.com/tensorflow/community/blob/master/rfcs/20180907-contrib-sunset.md\n",
            "  * https://github.com/tensorflow/addons\n",
            "  * https://github.com/tensorflow/io (for I/O related ops)\n",
            "If you depend on functionality not listed there, please file an issue.\n",
            "\n"
          ],
          "name": "stdout"
        }
      ]
    },
    {
      "cell_type": "code",
      "metadata": {
        "id": "b6h4gJXcPJ7V",
        "colab_type": "code",
        "colab": {
          "base_uri": "https://localhost:8080/",
          "height": 335
        },
        "outputId": "4b0dee6c-75c0-4a5f-9d41-948a63400561"
      },
      "source": [
        "#check GPU\n",
        "!nvidia-smi"
      ],
      "execution_count": 2,
      "outputs": [
        {
          "output_type": "stream",
          "text": [
            "Fri Mar  6 23:45:54 2020       \n",
            "+-----------------------------------------------------------------------------+\n",
            "| NVIDIA-SMI 440.59       Driver Version: 418.67       CUDA Version: 10.1     |\n",
            "|-------------------------------+----------------------+----------------------+\n",
            "| GPU  Name        Persistence-M| Bus-Id        Disp.A | Volatile Uncorr. ECC |\n",
            "| Fan  Temp  Perf  Pwr:Usage/Cap|         Memory-Usage | GPU-Util  Compute M. |\n",
            "|===============================+======================+======================|\n",
            "|   0  Tesla T4            Off  | 00000000:00:04.0 Off |                    0 |\n",
            "| N/A   41C    P8    10W /  70W |      0MiB / 15079MiB |      0%      Default |\n",
            "+-------------------------------+----------------------+----------------------+\n",
            "                                                                               \n",
            "+-----------------------------------------------------------------------------+\n",
            "| Processes:                                                       GPU Memory |\n",
            "|  GPU       PID   Type   Process name                             Usage      |\n",
            "|=============================================================================|\n",
            "|  No running processes found                                                 |\n",
            "+-----------------------------------------------------------------------------+\n"
          ],
          "name": "stdout"
        }
      ]
    },
    {
      "cell_type": "code",
      "metadata": {
        "id": "HjWgPpFLPiX6",
        "colab_type": "code",
        "colab": {
          "base_uri": "https://localhost:8080/",
          "height": 136
        },
        "outputId": "7937fc12-d157-4292-940e-b768477e8e9a"
      },
      "source": [
        "#124M (default): the \"small\" model, 500MB on disk.\n",
        "#355M: the \"medium\" model, 1.5GB on disk.\n",
        "#774M: the \"large\" model \n",
        "#1558M: the \"extra large\" \n",
        " \n",
        "gpt2.download_gpt2(model_name=\"774M\")"
      ],
      "execution_count": 3,
      "outputs": [
        {
          "output_type": "stream",
          "text": [
            "Fetching checkpoint: 1.05Mit [00:00, 587Mit/s]                                                      \n",
            "Fetching encoder.json: 1.05Mit [00:00, 131Mit/s]                                                    \n",
            "Fetching hparams.json: 1.05Mit [00:00, 588Mit/s]                                                    \n",
            "Fetching model.ckpt.data-00000-of-00001: 3.10Git [00:46, 66.2Mit/s]                                 \n",
            "Fetching model.ckpt.index: 1.05Mit [00:00, 402Mit/s]                                                \n",
            "Fetching model.ckpt.meta: 2.10Mit [00:00, 244Mit/s]                                                 \n",
            "Fetching vocab.bpe: 1.05Mit [00:00, 192Mit/s]                                                       \n"
          ],
          "name": "stderr"
        }
      ]
    },
    {
      "cell_type": "code",
      "metadata": {
        "id": "9_mR4q6XTAb-",
        "colab_type": "code",
        "colab": {
          "base_uri": "https://localhost:8080/",
          "height": 136
        },
        "outputId": "b7e93e60-1add-45a4-e4c1-c636a245fa75"
      },
      "source": [
        "#load model\n",
        "model_name = \"774M\"\n",
        "\n",
        "gpt2.download_gpt2(model_name=model_name)"
      ],
      "execution_count": 6,
      "outputs": [
        {
          "output_type": "stream",
          "text": [
            "Fetching checkpoint: 1.05Mit [00:00, 321Mit/s]                                                      \n",
            "Fetching encoder.json: 1.05Mit [00:00, 113Mit/s]                                                    \n",
            "Fetching hparams.json: 1.05Mit [00:00, 355Mit/s]                                                    \n",
            "Fetching model.ckpt.data-00000-of-00001: 3.10Git [00:46, 66.1Mit/s]                                 \n",
            "Fetching model.ckpt.index: 1.05Mit [00:00, 329Mit/s]                                                \n",
            "Fetching model.ckpt.meta: 2.10Mit [00:00, 90.5Mit/s]                                                \n",
            "Fetching vocab.bpe: 1.05Mit [00:00, 182Mit/s]                                                       \n"
          ],
          "name": "stderr"
        }
      ]
    },
    {
      "cell_type": "code",
      "metadata": {
        "id": "0lfYShniS5ci",
        "colab_type": "code",
        "colab": {
          "base_uri": "https://localhost:8080/",
          "height": 51
        },
        "outputId": "39303d7d-9eb7-48ab-fd99-f5eb5a2cab8f"
      },
      "source": [
        "#set session to generate text\n",
        "sess = gpt2.start_tf_sess()\n",
        "#load pretrained model \n",
        "gpt2.load_gpt2(sess, model_name=model_name)"
      ],
      "execution_count": 7,
      "outputs": [
        {
          "output_type": "stream",
          "text": [
            "Loading pretrained model models/774M/model.ckpt\n",
            "INFO:tensorflow:Restoring parameters from models/774M/model.ckpt\n"
          ],
          "name": "stdout"
        }
      ]
    },
    {
      "cell_type": "code",
      "metadata": {
        "id": "fQtsjq4MQcBc",
        "colab_type": "code",
        "colab": {
          "base_uri": "https://localhost:8080/",
          "height": 1000
        },
        "outputId": "7e3e4942-644c-4547-da18-38a06e20b69b"
      },
      "source": [
        " #generate text\n",
        " gpt2.generate(sess,\n",
        "              model_name=model_name,\n",
        "              prefix=\"Will I get the coronavirus?\",\n",
        "              length=100,\n",
        "              temperature=0.7,\n",
        "              top_p=0.9,\n",
        "              nsamples=5,\n",
        "              batch_size=5\n",
        "              )"
      ],
      "execution_count": 8,
      "outputs": [
        {
          "output_type": "stream",
          "text": [
            "WARNING:tensorflow:From /usr/local/lib/python3.6/dist-packages/gpt_2_simple/src/sample.py:32: where (from tensorflow.python.ops.array_ops) is deprecated and will be removed in a future version.\n",
            "Instructions for updating:\n",
            "Use tf.where in 2.0, which has the same broadcast rule as np.where\n",
            "Will I get the coronavirus?\n",
            "\n",
            "You can be infected with the coronavirus if you've had direct contact with an infected person, or have had direct contact with an infected animal (including a pet or someone who's been in close contact with an infected animal).\n",
            "\n",
            "You can also get the coronavirus if you've had a blood transfusion or if you've had an organ transplant.\n",
            "\n",
            "You can also get the coronavirus if you've had a blood transfusion or if you've had an organ\n",
            "====================\n",
            "Will I get the coronavirus?\n",
            "\n",
            "Yes. Your baby will be born with it. But if you are infected, you will be able to pass it to your child, and your baby will not be infected.\n",
            "\n",
            "Can I get it from my partner?\n",
            "\n",
            "Yes. If you have sex with a person who is infected, you can pass it to your partner.\n",
            "\n",
            "Can I get it from a person who is infected but not with the virus?\n",
            "\n",
            "Yes. You can pass it to anyone who has\n",
            "====================\n",
            "Will I get the coronavirus?\n",
            "\n",
            "\"It is possible that the virus will spread to other parts of the body and we are not yet sure whether it will be fatal,\" he said.\n",
            "\n",
            "\"It is very likely that it will be a life-threatening illness.\"\n",
            "\n",
            "The virus is spread by close contact with an infected person's saliva.\n",
            "\n",
            "The World Health Organisation has urged people to avoid contact with those who are ill with the virus.\n",
            "\n",
            "It says the virus may be spread by coughing, sneez\n",
            "====================\n",
            "Will I get the coronavirus?\n",
            "\n",
            "No.\n",
            "\n",
            "What is the vaccine?\n",
            "\n",
            "The vaccine is called Gardasil. It is a shot that can be given at any age. It is not a shot for the whole body. It is a shot that can be given in the arm, in the leg or in the chest.\n",
            "\n",
            "Is there a vaccine for the HPV?\n",
            "\n",
            "There is not a vaccine for HPV.\n",
            "\n",
            "What are the symptoms of HPV?\n",
            "\n",
            "The symptoms of HPV are the\n",
            "====================\n",
            "Will I get the coronavirus?\n",
            "\n",
            "Not likely. The virus is a strain of coronavirus that causes a fever and rash.\n",
            "\n",
            "How do I get the coronavirus?\n",
            "\n",
            "You can get the virus through direct contact with someone who has the virus.\n",
            "\n",
            "You can also get the virus from the body fluids of someone who has the virus.\n",
            "\n",
            "The virus is not spread through coughing, sneezing, talking or eating food or drink that has come into contact with someone who has the virus.\n",
            "====================\n"
          ],
          "name": "stdout"
        }
      ]
    }
  ]
}